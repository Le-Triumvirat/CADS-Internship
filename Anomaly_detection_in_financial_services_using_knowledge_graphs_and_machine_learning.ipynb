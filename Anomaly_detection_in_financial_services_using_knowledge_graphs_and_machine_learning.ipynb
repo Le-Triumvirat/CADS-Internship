{
  "nbformat": 4,
  "nbformat_minor": 0,
  "metadata": {
    "colab": {
      "name": "Anomaly detection in financial services using knowledge graphs and machine learning",
      "provenance": [],
      "include_colab_link": true
    },
    "kernelspec": {
      "name": "python3",
      "display_name": "Python 3"
    },
    "language_info": {
      "name": "python"
    }
  },
  "cells": [
    {
      "cell_type": "markdown",
      "metadata": {
        "id": "view-in-github",
        "colab_type": "text"
      },
      "source": [
        "<a href=\"https://colab.research.google.com/github/Le-Triumvirat/CADS-Internship/blob/main/Anomaly_detection_in_financial_services_using_knowledge_graphs_and_machine_learning.ipynb\" target=\"_parent\"><img src=\"https://colab.research.google.com/assets/colab-badge.svg\" alt=\"Open In Colab\"/></a>"
      ]
    },
    {
      "cell_type": "code",
      "metadata": {
        "colab": {
          "base_uri": "https://localhost:8080/"
        },
        "id": "gmQpxqbbzaGG",
        "outputId": "7ac20a7b-5f96-4497-b07a-8adbeae271ef"
      },
      "source": [
        "print('hello triumvirate')\n",
        "print('ALLFATHERS GIVE US STRENGTH')\n",
        "print('meh')"
      ],
      "execution_count": 1,
      "outputs": [
        {
          "output_type": "stream",
          "text": [
            "hello triumvirate\n",
            "ALLFATHERS GIVE US STRENGTH\n",
            "meh\n"
          ],
          "name": "stdout"
        }
      ]
    },
    {
      "cell_type": "code",
      "metadata": {
        "id": "klBCWQYK1U2D"
      },
      "source": [
        ""
      ],
      "execution_count": null,
      "outputs": []
    },
    {
      "cell_type": "markdown",
      "metadata": {
        "id": "ucDIkvQz1W-B"
      },
      "source": [
        ""
      ]
    }
  ]
}